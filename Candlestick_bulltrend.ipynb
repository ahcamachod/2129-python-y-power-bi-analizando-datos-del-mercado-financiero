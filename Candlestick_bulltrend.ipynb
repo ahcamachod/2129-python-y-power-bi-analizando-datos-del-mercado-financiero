{
  "nbformat": 4,
  "nbformat_minor": 0,
  "metadata": {
    "colab": {
      "provenance": [],
      "include_colab_link": true
    },
    "kernelspec": {
      "name": "python3",
      "display_name": "Python 3"
    },
    "language_info": {
      "name": "python"
    }
  },
  "cells": [
    {
      "cell_type": "markdown",
      "metadata": {
        "id": "view-in-github",
        "colab_type": "text"
      },
      "source": [
        "<a href=\"https://colab.research.google.com/github/ahcamachod/2129-python-y-power-bi-analizando-datos-del-mercado-financiero/blob/aula-5/Candlestick_bulltrend.ipynb\" target=\"_parent\"><img src=\"https://colab.research.google.com/assets/colab-badge.svg\" alt=\"Open In Colab\"/></a>"
      ]
    },
    {
      "cell_type": "markdown",
      "source": [
        "# Python y PBI - Análisis gráfico fundamentalista de activos"
      ],
      "metadata": {
        "id": "qEmOZ1ZjU2MN"
      }
    },
    {
      "cell_type": "code",
      "source": [
        "# El código siguiente, que crea un dataframe y quita las filas duplicadas, siempre se ejecuta y actúa como un preámbulo del script:\n",
        "\n",
        "# dataset = pandas.DataFrame(Date, Open, High, Low, Close)\n",
        "# dataset = dataset.drop_duplicates()\n",
        "\n",
        "# Pegue o escriba aquí el código de script:\n",
        "\n",
        "import pandas as pd\n",
        "import numpy as np\n",
        "import matplotlib.pyplot as plt\n",
        "import matplotlib.ticker as mticker\n",
        "import seaborn as sns\n",
        "\n",
        "# Configuraciones iniciales de la fuente\n",
        "plt.rcParams['font.family'] = 'sans-serif'\n",
        "plt.rcParams[\"font.sans-serif\"] = 'Verdana'\n",
        "\n",
        "def candlestick(date, open, high, low, close):\n",
        "    fig, ax = plt.subplots(figsize=(30,11), dpi=72, facecolor='#edf3ee')\n",
        "    ax.set_facecolor(\"#edf3ee\")\n",
        "\n",
        "    # Definiendo los colores de cada candle\n",
        "    colores = [\"green\" if close > open else \"red\" for close, open in zip(close, open)]\n",
        "\n",
        "    # Candlestick cuerpo + mecha\n",
        "    sns.barplot(x=date, y=np.abs(open-close), bottom=np.min((open,close), axis=0), width=0.8, palette=colores, ax = ax)\n",
        "    sns.barplot(x=date, y=high-low, bottom=low, width=0.1, palette=colores, ax = ax)\n",
        "\n",
        "dataset[\"Date\"] = pd.to_datetime(dataset[\"Date\"], format=\"%Y-%m-%dT%H:%M:%S\")\n",
        "\n",
        "candlestick(dataset[\"Date\"], dataset[\"Open\"], dataset[\"High\"], dataset[\"Low\"], dataset[\"Close\"])\n",
        "\n",
        "plt.subplots_adjust(left=0.07, bottom=0.05, right=0.95, top=0.95)\n",
        "plt.show()"
      ],
      "metadata": {
        "id": "0hhDh5VGJiXG"
      },
      "execution_count": null,
      "outputs": []
    },
    {
      "cell_type": "code",
      "source": [
        "    ## Personalizando el gráfico\n",
        "    # Ajustando los ticks de los ejes x y y\n",
        "    plt.setp(ax, xticks = ax.get_xticks(), yticks = ax.get_yticks(),\n",
        "              xticklabels = [date[i].strftime('%b %Y') for i in ax.get_xticks()],\n",
        "              yticklabels= [f'R$ {valor:.2f}' for valor in ax.get_yticks()])\n",
        "\n",
        "    # Ajustando tamaños de labels, removiendo los títulos y los bordes\n",
        "    ax.set_xlabel('')\n",
        "    ax.set_ylabel('')\n",
        "    ax.tick_params(axis='both', labelsize=32)\n",
        "    ax.xaxis.set_major_locator(mticker.MaxNLocator(4))\n",
        "    sns.despine()\n",
        "    plt.grid(alpha=0.2)\n",
        "\n",
        "    # Ajustando el límite de y para dejar un margen\n",
        "    plt.ylim(ax.get_ylim()[0]-0.5, ax.get_ylim()[1]+0.5)"
      ],
      "metadata": {
        "id": "hjth_hnHbEWZ"
      },
      "execution_count": null,
      "outputs": []
    },
    {
      "cell_type": "code",
      "source": [
        "    # Promedio móvil de 7 e 30 períodos\n",
        "    mav_7 = close.rolling(7).mean()\n",
        "    mav_30 = close.rolling(30).mean()\n",
        "    sns.lineplot(x=ax.get_xticks(), y=mav_7, label = \"MAV 7\", color = \"#E76F51\", linewidth = 4, ax = ax)\n",
        "    sns.lineplot(x=ax.get_xticks(), y=mav_30, label = \"MAV 30\", color = \"#023E8A\", linewidth = 4, ax = ax)\n",
        "    plt.legend(fontsize=28, facecolor=\"#EDF3EE\", edgecolor=\"#EDF3EE\")\n",
        "\n",
        "    # Min y Max Global\n",
        "    for i in range(0, len(date)):\n",
        "      if low[i] == np.min(low):\n",
        "        ax.annotate('Mínimo', xy = (ax.get_xticks()[i], low[i]), xytext=(15, -15), fontsize=26,\n",
        "                    textcoords='offset points', arrowprops=dict(arrowstyle='-|>'))\n",
        "      if high[i] == np.max(high):\n",
        "        ax.annotate('Máximo', xy = (ax.get_xticks()[i], high[i]), xytext=(15, 15), fontsize=26,\n",
        "                    textcoords='offset points', arrowprops=dict(arrowstyle='-|>'))\n",
        "\n",
        "    # Valor Actual\n",
        "    ax.axhline(y = close[len(close)-1], color = \"grey\", linestyle='--') # No logramos leer el último valor con -1 Sector mínimo y máximo anual Patrimonio e indicadores del activo"
      ],
      "metadata": {
        "id": "0y32XplTRsqU"
      },
      "execution_count": null,
      "outputs": []
    },
    {
      "cell_type": "markdown",
      "source": [
        "## Código Completo"
      ],
      "metadata": {
        "id": "qBWF4jJ4a_W9"
      }
    },
    {
      "cell_type": "code",
      "source": [
        "# El código siguiente, que crea un dataframe y quita las filas duplicadas, siempre se ejecuta y actúa como un preámbulo del script:\n",
        "\n",
        "# dataset = pandas.DataFrame(Date, Open, High, Low, Close)\n",
        "# dataset = dataset.drop_duplicates()\n",
        "\n",
        "# Pegue o escriba aquí el código de script:\n",
        "\n",
        "import pandas as pd\n",
        "import numpy as np\n",
        "import matplotlib.pyplot as plt\n",
        "import matplotlib.ticker as mticker\n",
        "import seaborn as sns\n",
        "\n",
        "# Configuraciones iniciales de la fuente\n",
        "plt.rcParams['font.family'] = 'sans-serif'\n",
        "plt.rcParams[\"font.sans-serif\"] = 'Verdana'\n",
        "\n",
        "def candlestick(date, open, high, low, close):\n",
        "    fig, ax = plt.subplots(figsize=(30,11), dpi=72, facecolor='#edf3ee')\n",
        "    ax.set_facecolor(\"#edf3ee\")\n",
        "\n",
        "    # Definiendo los colores de cada candle\n",
        "    colores = [\"#5B855C\" if close > open else \"#DA1E37\" for close, open in zip(close, open)]\n",
        "\n",
        "    # Candlestick cuerpo + mecha\n",
        "    sns.barplot(x=date, y=np.abs(open-close), bottom=np.min((open,close), axis=0), width=0.8, palette=colores, ax = ax)\n",
        "    sns.barplot(x=date, y=high-low, bottom=low, width=0.1, palette=colores, ax = ax)\n",
        "\n",
        "    # Promedio móvil de 7 e 30 períodos\n",
        "    mav_7 = close.rolling(7).mean()\n",
        "    mav_30 = close.rolling(30).mean()\n",
        "    sns.lineplot(x=ax.get_xticks(), y=mav_7, label = \"MAV 7\", color = \"#E76F51\", linewidth = 4, ax = ax)\n",
        "    sns.lineplot(x=ax.get_xticks(), y=mav_30, label = \"MAV 30\", color = \"#023E8A\", linewidth = 4, ax = ax)\n",
        "\n",
        "   # Min y Max Global\n",
        "    for i in range(0, len(date)):\n",
        "      if low[i] == np.min(low):\n",
        "        ax.annotate('Mínimo', xy = (ax.get_xticks()[i], low[i]), xytext=(15, -15), fontsize=26,\n",
        "                    textcoords='offset points', arrowprops=dict(arrowstyle='-|>'))\n",
        "      if high[i] == np.max(high):\n",
        "        ax.annotate('Máximo', xy = (ax.get_xticks()[i], high[i]), xytext=(15, 15), fontsize=26,\n",
        "                    textcoords='offset points', arrowprops=dict(arrowstyle='-|>'))\n",
        "\n",
        "    # Valor Actual\n",
        "    ax.axhline(y = close[len(close)-1], color = \"grey\", linestyle='--') # No logramos leer el último valor con -1\n",
        "\n",
        "    ## Personalizando el gráfico\n",
        "    # Ajustando los ticks de los ejes x y y\n",
        "    plt.setp(ax, xticks = ax.get_xticks(), yticks = ax.get_yticks(),\n",
        "             xticklabels = [date[i].strftime('%b %Y') for i in ax.get_xticks()],\n",
        "             yticklabels= [f'R$ {valor:.2f}' for valor in ax.get_yticks()])\n",
        "\n",
        "    # Ajustando tamaños de labels, removiendo los títulos y los bordes\n",
        "    ax.set_xlabel('')\n",
        "    ax.set_ylabel('')\n",
        "    ax.tick_params(axis='both', labelsize=32)\n",
        "    ax.xaxis.set_major_locator(mticker.MaxNLocator(4))\n",
        "    sns.despine()\n",
        "    plt.legend(fontsize=28, facecolor=\"#EDF3EE\", edgecolor=\"#EDF3EE\")\n",
        "    plt.grid(alpha=0.2)\n",
        "\n",
        "    # Ajustando el límite de y para dejar un margen\n",
        "    plt.ylim(ax.get_ylim()[0]-0.5, ax.get_ylim()[1]+0.5)\n",
        "\n",
        "dataset[\"Date\"] = pd.to_datetime(dataset[\"Date\"], format=\"%Y-%m-%dT%H:%M:%S\")\n",
        "\n",
        "candlestick( dataset[\"Date\"], dataset[\"Open\"], dataset[\"High\"], dataset[\"Low\"], dataset[\"Close\"])\n",
        "\n",
        "plt.subplots_adjust(left=0.07, bottom=0.05, right=0.95, top=0.95)\n",
        "plt.show()"
      ],
      "metadata": {
        "id": "VPXqzt9ha9CU"
      },
      "execution_count": null,
      "outputs": []
    }
  ]
}