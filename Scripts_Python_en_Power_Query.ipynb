{
  "nbformat": 4,
  "nbformat_minor": 0,
  "metadata": {
    "colab": {
      "provenance": [],
      "include_colab_link": true
    },
    "kernelspec": {
      "name": "python3",
      "display_name": "Python 3"
    },
    "language_info": {
      "name": "python"
    }
  },
  "cells": [
    {
      "cell_type": "markdown",
      "metadata": {
        "id": "view-in-github",
        "colab_type": "text"
      },
      "source": [
        "<a href=\"https://colab.research.google.com/github/ahcamachod/2129-python-y-power-bi-analizando-datos-del-mercado-financiero/blob/aula-3/Scripts_Python_en_Power_Query.ipynb\" target=\"_parent\"><img src=\"https://colab.research.google.com/assets/colab-badge.svg\" alt=\"Open In Colab\"/></a>"
      ]
    },
    {
      "cell_type": "markdown",
      "source": [
        "# Python y PBI - Análisis Gráfico y Fundamentalista de Activos"
      ],
      "metadata": {
        "id": "qEmOZ1ZjU2MN"
      }
    },
    {
      "cell_type": "markdown",
      "source": [
        "## Indicadores"
      ],
      "metadata": {
        "id": "cBxUWB-VXp5M"
      }
    },
    {
      "cell_type": "code",
      "source": [
        "import numpy as np\n",
        "\n",
        "dataset[\"Valor_Intrinseco\"] = np.sqrt(22.5*dataset[\"LPA\"]*dataset[\"VPA\"]).round(2)"
      ],
      "metadata": {
        "id": "9TaWvVHAXpDe"
      },
      "execution_count": null,
      "outputs": []
    },
    {
      "cell_type": "markdown",
      "source": [
        "## Cotizaciones"
      ],
      "metadata": {
        "id": "kA9-s3SQXsgq"
      }
    },
    {
      "cell_type": "code",
      "source": [
        "import pandas as pd\n",
        "\n",
        "# Retirando el sufijo .SA de los activos\n",
        "dataset[\"Activo\"] = dataset[\"Activo\"].apply(lambda x: x.replace('.SA',''))"
      ],
      "metadata": {
        "id": "sBZPRI44XAkP"
      },
      "execution_count": null,
      "outputs": []
    }
  ]
}